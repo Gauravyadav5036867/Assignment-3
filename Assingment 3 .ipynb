{
 "cells": [
  {
   "cell_type": "code",
   "execution_count": null,
   "id": "67ca31f4-01a0-4b8d-9c31-4ad5f3f9f120",
   "metadata": {},
   "outputs": [],
   "source": [
    "#Question 1\n",
    "The def keyword is used to create a function."
   ]
  },
  {
   "cell_type": "code",
   "execution_count": null,
   "id": "3636f708-fe9d-428b-a387-086a32e94724",
   "metadata": {},
   "outputs": [],
   "source": [
    "def test odd_number():\n",
    "    odd number[]:\n",
    "        for range in (1 , 25):\n",
    "        if number %2!=0:\n",
    "            odd_number.append()\n",
    "            return odd_numbers\n",
    "            "
   ]
  },
  {
   "cell_type": "code",
   "execution_count": null,
   "id": "4c66a0d5-8d2c-46d3-8ec0-14548e754a64",
   "metadata": {},
   "outputs": [],
   "source": [
    "#Question 2\n",
    "*args and **kwargs is used as a arugument function because if we ensure that number of aurgument pass in functions.\n",
    "\n",
    "ef add(*numbers):\n",
    "    total = 0\n",
    "    for num in numbers:\n",
    "        total += num\n",
    "    return total\n",
    "\n",
    "\n",
    "print(add(2, 3))\n",
    "print(add(2, 3, 5))"
   ]
  },
  {
   "cell_type": "code",
   "execution_count": null,
   "id": "cf2364f6-cb72-44ee-929a-0ef4083455a6",
   "metadata": {},
   "outputs": [],
   "source": [
    "def total_fruits(**kwargs):\n",
    "    print(kwargs, type(kwargs))\n",
    "\n",
    "\n",
    "total_fruits(banana=5, mango=7, apple=8)\n"
   ]
  },
  {
   "cell_type": "code",
   "execution_count": null,
   "id": "9702fd07-0fed-4981-a163-19c944380711",
   "metadata": {},
   "outputs": [],
   "source": [
    "#Question 3\n",
    "It is collections of data, such as lists, tuples, dictionaries, and sets.\n",
    "The method used in initialise tje iteration is Iter() \n"
   ]
  },
  {
   "cell_type": "code",
   "execution_count": 12,
   "id": "56208135-2c18-47d4-a1e7-ed68af746cb3",
   "metadata": {},
   "outputs": [],
   "source": [
    "l = [2, 4, 6, 8, 10, 12, 14,\n",
    "16, 18, 20]\n"
   ]
  },
  {
   "cell_type": "code",
   "execution_count": 13,
   "id": "c50d73de-4837-4589-b225-b8849e7884f2",
   "metadata": {},
   "outputs": [
    {
     "data": {
      "text/plain": [
       "[2, 4, 6, 8]"
      ]
     },
     "execution_count": 13,
     "metadata": {},
     "output_type": "execute_result"
    }
   ],
   "source": [
    "l[0:4]"
   ]
  },
  {
   "cell_type": "code",
   "execution_count": null,
   "id": "e85f0209-76f0-444f-8e81-1267ab53e15e",
   "metadata": {},
   "outputs": [],
   "source": [
    "#Question 4\n",
    "It is used to declare the function and providing a better and fast and easier way to create iterators.\n",
    "Yield keyword is used for convert an expression.\n"
   ]
  },
  {
   "cell_type": "code",
   "execution_count": 14,
   "id": "022e3bb0-b5bd-4148-8f07-acc0457917e2",
   "metadata": {},
   "outputs": [],
   "source": [
    "def test_fib(n):\n",
    "    a,b = 0,1 \n",
    "    for i in range(n):\n",
    "        yield a\n",
    "        a,b = b , a+b"
   ]
  },
  {
   "cell_type": "code",
   "execution_count": 15,
   "id": "d2ac3064-977c-40c5-8c00-9bf0df660981",
   "metadata": {},
   "outputs": [
    {
     "data": {
      "text/plain": [
       "<generator object test_fib at 0x7f8c183697e0>"
      ]
     },
     "execution_count": 15,
     "metadata": {},
     "output_type": "execute_result"
    }
   ],
   "source": [
    "test_fib(10)"
   ]
  },
  {
   "cell_type": "code",
   "execution_count": 16,
   "id": "513fc693-8f3d-4e25-b3ee-978e0c7a056c",
   "metadata": {},
   "outputs": [
    {
     "name": "stdout",
     "output_type": "stream",
     "text": [
      "0\n",
      "1\n",
      "1\n",
      "2\n",
      "3\n",
      "5\n",
      "8\n",
      "13\n",
      "21\n",
      "34\n"
     ]
    }
   ],
   "source": [
    "for i in test_fib(10):\n",
    "    print(i)"
   ]
  },
  {
   "cell_type": "code",
   "execution_count": null,
   "id": "fe9114a4-da31-4148-ab37-5db19c30c1ff",
   "metadata": {},
   "outputs": [],
   "source": [
    "#Question 5 \n",
    "def prime_generator():\n",
    "    yield 2\n",
    "    primes = [2]\n",
    "    current_number = 3\n",
    "\n",
    "    while current_number < 1000:\n",
    "        is_prime = True\n",
    "\n",
    "        for prime in primes:\n",
    "            if prime * prime > current_number:\n",
    "                break\n",
    "            if current_number % prime == 0:\n",
    "                is_prime = False\n",
    "                break\n",
    "\n",
    "        if is_prime:\n",
    "            primes.append(current_number)\n",
    "            yield current_number\n",
    "\n",
    "        current_number += 2\n"
   ]
  },
  {
   "cell_type": "code",
   "execution_count": 18,
   "id": "fb0a7e94-fb20-46a5-ace0-bbdceec4657f",
   "metadata": {},
   "outputs": [
    {
     "name": "stdout",
     "output_type": "stream",
     "text": [
      "0\n",
      "1\n",
      "1\n",
      "2\n",
      "3\n",
      "5\n",
      "8\n",
      "13\n",
      "21\n",
      "34\n"
     ]
    }
   ],
   "source": [
    "#Question 6\n",
    "a , b = 0, 1 \n",
    "count = 0 \n",
    "while count < 10:\n",
    "    print(a)\n",
    "    a, b = b, a+ b \n",
    "    count +=1\n"
   ]
  },
  {
   "cell_type": "code",
   "execution_count": 20,
   "id": "0ae04994-10e2-4287-aa86-a4fe245db049",
   "metadata": {},
   "outputs": [],
   "source": [
    "#Question 7 \n",
    "\n",
    "s = \"pwskills\"\n",
    "    "
   ]
  },
  {
   "cell_type": "code",
   "execution_count": 21,
   "id": "2b432f59-a09f-49b4-a20a-0a58a2a1b554",
   "metadata": {},
   "outputs": [
    {
     "data": {
      "text/plain": [
       "['p', 'w', 's', 'k', 'i', 'l', 'l', 's']"
      ]
     },
     "execution_count": 21,
     "metadata": {},
     "output_type": "execute_result"
    }
   ],
   "source": [
    "list(s)"
   ]
  },
  {
   "cell_type": "code",
   "execution_count": null,
   "id": "686e8371-f34d-405e-aea8-f91e13c267ca",
   "metadata": {},
   "outputs": [],
   "source": [
    "#Question 9\n",
    "\n"
   ]
  }
 ],
 "metadata": {
  "kernelspec": {
   "display_name": "Python 3 (ipykernel)",
   "language": "python",
   "name": "python3"
  },
  "language_info": {
   "codemirror_mode": {
    "name": "ipython",
    "version": 3
   },
   "file_extension": ".py",
   "mimetype": "text/x-python",
   "name": "python",
   "nbconvert_exporter": "python",
   "pygments_lexer": "ipython3",
   "version": "3.10.8"
  }
 },
 "nbformat": 4,
 "nbformat_minor": 5
}
